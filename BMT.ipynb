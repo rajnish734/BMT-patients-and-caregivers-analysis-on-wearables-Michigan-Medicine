{
 "cells": [
  {
   "cell_type": "markdown",
   "id": "784640b8-8b9b-47fd-b22d-4efc8b5999b2",
   "metadata": {},
   "source": []
  },
  {
   "cell_type": "code",
   "execution_count": 2,
   "id": "40c399e0-d818-4c63-b9e2-f80cbf6e0327",
   "metadata": {},
   "outputs": [
    {
     "name": "stderr",
     "output_type": "stream",
     "text": [
      "C:\\Users\\rajnishk\\AppData\\Local\\Temp\\ipykernel_3244\\3894575836.py:2: DeprecationWarning: \n",
      "Pyarrow will become a required dependency of pandas in the next major release of pandas (pandas 3.0),\n",
      "(to allow more performant data types, such as the Arrow string type, and better interoperability with other libraries)\n",
      "but was not found to be installed on your system.\n",
      "If this would cause problems for you,\n",
      "please provide us feedback at https://github.com/pandas-dev/pandas/issues/54466\n",
      "        \n",
      "  import pandas as pd\n"
     ]
    }
   ],
   "source": [
    "import numpy as np\n",
    "import pandas as pd\n",
    "import matplotlib\n",
    "import matplotlib.pyplot as plt\n",
    "import seaborn as sns"
   ]
  },
  {
   "cell_type": "code",
   "execution_count": null,
   "id": "66b408a9-654e-4b5f-97b3-c1416648defa",
   "metadata": {},
   "outputs": [],
   "source": []
  },
  {
   "cell_type": "code",
   "execution_count": 3,
   "id": "e4ed6422-d9b1-4598-80aa-5e82b78b30a9",
   "metadata": {},
   "outputs": [],
   "source": [
    "df_mood_time = pd.read_csv(r'C:\\Users\\rajnishk\\University of Michigan Dropbox\\Rajnish Kumar\\K24_NHLBI_Admin Supp\\bmt_MOOD_TIME_ENTRY.csv')\n"
   ]
  },
  {
   "cell_type": "code",
   "execution_count": 4,
   "id": "6d3a9c75-9b62-42bd-8ee7-a09ca3e04fbd",
   "metadata": {},
   "outputs": [
    {
     "name": "stdout",
     "output_type": "stream",
     "text": [
      "['EDT' '704' '135' ... '374' 'MDT' '326']\n"
     ]
    }
   ],
   "source": [
    "import pandas as pd\n",
    "\n",
    "# Assuming df_mood_time is your DataFrame\n",
    "# Convert the 'INT_SRVY_RSPNS_DT' to string if it's not already\n",
    "df_mood_time['INT_SRVY_DT_STR'] = df_mood_time['INT_SRVY_RSPNS_DT'].astype(str)\n",
    "\n",
    "# Extract the time zone (the last three characters of the string)\n",
    "df_mood_time['Time_Zone'] = df_mood_time['INT_SRVY_DT_STR'].str[-3:]\n",
    "\n",
    "# Find unique time zones\n",
    "unique_time_zones = df_mood_time['Time_Zone'].unique()\n",
    "\n",
    "print(unique_time_zones)"
   ]
  },
  {
   "cell_type": "code",
   "execution_count": 5,
   "id": "15bd5991-8d1c-46c5-968b-0f5d8693fb35",
   "metadata": {},
   "outputs": [
    {
     "name": "stdout",
     "output_type": "stream",
     "text": [
      "['EDT' 'EST' 'CDT' 'PST' 'MST' 'PDT' 'CST' 'GMT' 'MDT']\n"
     ]
    }
   ],
   "source": [
    "import re\n",
    "\n",
    "# Define a regex pattern for time zone (abbreviations like EDT, EST, etc.)\n",
    "tz_pattern = re.compile(r'\\b[A-Z]{3,5}\\b')\n",
    "\n",
    "# Use the regex pattern to find the timezone within each timestamp string\n",
    "df_mood_time['Time_Zone'] = df_mood_time['INT_SRVY_DT_STR'].apply(lambda x: tz_pattern.search(x).group(0) if tz_pattern.search(x) else None)\n",
    "\n",
    "# Find unique time zones\n",
    "unique_time_zones = df_mood_time['Time_Zone'].dropna().unique()\n",
    "\n",
    "print(unique_time_zones)"
   ]
  },
  {
   "cell_type": "code",
   "execution_count": 13,
   "id": "fa840d70-7169-4fd4-aca3-5d4f28edfcdb",
   "metadata": {},
   "outputs": [
    {
     "name": "stderr",
     "output_type": "stream",
     "text": [
      "C:\\Users\\rajnishk\\AppData\\Local\\Temp\\ipykernel_3244\\2566446847.py:6: FutureWarning: Parsed string \"2020-08-25 12:31:12.335 EDT\" included an un-recognized timezone \"EDT\". Dropping unrecognized timezones is deprecated; in a future version this will raise. Instead pass the string without the timezone, then use .tz_localize to convert to a recognized timezone.\n",
      "  df_mood_time['INT_SRVY_RSPNS_DT'] = pd.to_datetime(df_mood_time['INT_SRVY_RSPNS_DT'], errors='coerce')\n"
     ]
    }
   ],
   "source": [
    "# df_EDT_mood = df_mood_time[df_mood_time.Time_Zone == 'EDT']\n",
    "\n",
    "import pandas as pd\n",
    "\n",
    "# First, ensure that the column is in datetime format\n",
    "df_mood_time['INT_SRVY_RSPNS_DT'] = pd.to_datetime(df_mood_time['INT_SRVY_RSPNS_DT'], errors='coerce')\n",
    "\n",
    "# Extract the date part to a new column\n",
    "df_mood_time['Date'] = df_mood_time['INT_SRVY_RSPNS_DT'].dt.date\n",
    "\n",
    "# Extract the time part to a new column\n",
    "df_mood_time['Time'] = df_mood_time['INT_SRVY_RSPNS_DT'].dt.time\n",
    "\n",
    "# Now df_mood_time has two new columns: 'Date' and 'Time'"
   ]
  },
  {
   "cell_type": "code",
   "execution_count": null,
   "id": "0e28c4e2-942e-4971-87bc-5fe2ef3aab32",
   "metadata": {},
   "outputs": [],
   "source": []
  }
 ],
 "metadata": {
  "kernelspec": {
   "display_name": "Python 3 (ipykernel)",
   "language": "python",
   "name": "python3"
  },
  "language_info": {
   "codemirror_mode": {
    "name": "ipython",
    "version": 3
   },
   "file_extension": ".py",
   "mimetype": "text/x-python",
   "name": "python",
   "nbconvert_exporter": "python",
   "pygments_lexer": "ipython3",
   "version": "3.11.7"
  }
 },
 "nbformat": 4,
 "nbformat_minor": 5
}
